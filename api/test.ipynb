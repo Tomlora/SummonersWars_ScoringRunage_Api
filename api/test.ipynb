{
 "cells": [
  {
   "cell_type": "code",
   "execution_count": 3,
   "metadata": {},
   "outputs": [],
   "source": [
    "import pandas as pd"
   ]
  },
  {
   "cell_type": "code",
   "execution_count": 4,
   "metadata": {},
   "outputs": [],
   "source": [
    "df = pd.read_excel('excel.xlsx')"
   ]
  },
  {
   "cell_type": "code",
   "execution_count": 10,
   "metadata": {},
   "outputs": [],
   "source": [
    "df.drop(['Unnamed: 0'], axis=1, inplace=True)"
   ]
  },
  {
   "cell_type": "code",
   "execution_count": 12,
   "metadata": {},
   "outputs": [
    {
     "data": {
      "text/plain": [
       "0                                                     NaN\n",
       "1                                       Meule : HP%(1) \\n\n",
       "2                                                     NaN\n",
       "3                                                     NaN\n",
       "4                                      Meule : DEF%(1) \\n\n",
       "                              ...                        \n",
       "1434                                   Meule : DEF%(1) \\n\n",
       "1435                  Meule : SPD(4) \\nMeule : ATQ%(7) \\n\n",
       "1436                  Meule : SPD(4) \\nMeule : DEF(22) \\n\n",
       "1437    Meule : ATQ%(1) \\nMeule : SPD(1) \\nGemme : DEF...\n",
       "1438                                    Meule : HP%(7) \\n\n",
       "Name: Grind_hero, Length: 1439, dtype: object"
      ]
     },
     "execution_count": 12,
     "metadata": {},
     "output_type": "execute_result"
    }
   ],
   "source": [
    "df['Grind_hero']"
   ]
  }
 ],
 "metadata": {
  "kernelspec": {
   "display_name": "Python 3.10.4 64-bit",
   "language": "python",
   "name": "python3"
  },
  "language_info": {
   "codemirror_mode": {
    "name": "ipython",
    "version": 3
   },
   "file_extension": ".py",
   "mimetype": "text/x-python",
   "name": "python",
   "nbconvert_exporter": "python",
   "pygments_lexer": "ipython3",
   "version": "3.10.4"
  },
  "orig_nbformat": 4,
  "vscode": {
   "interpreter": {
    "hash": "06d3ad103a38a5e5980b0a2ddf222334b9b3630c94a7e75a8e45e8afe280f469"
   }
  }
 },
 "nbformat": 4,
 "nbformat_minor": 2
}
